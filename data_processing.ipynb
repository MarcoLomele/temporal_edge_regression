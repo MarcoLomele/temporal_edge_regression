{
 "cells": [
  {
   "cell_type": "code",
   "execution_count": 64,
   "metadata": {},
   "outputs": [],
   "source": [
    "import pandas as pd\n",
    "import matplotlib.pyplot as plt\n",
    "import os\n",
    "from datetime import datetime\n",
    "import numpy as np\n",
    "import seaborn as sns"
   ]
  },
  {
   "cell_type": "markdown",
   "metadata": {},
   "source": [
    "# Import and clean"
   ]
  },
  {
   "cell_type": "markdown",
   "metadata": {},
   "source": [
    "## Italy"
   ]
  },
  {
   "cell_type": "code",
   "execution_count": 65,
   "metadata": {},
   "outputs": [],
   "source": [
    "#Adding header entry\n",
    "file_path_cases = '/Users/marco/Library/CloudStorage/Dropbox/University/Bachelor/Year 3/Bocconi (2)/Thesis (GNNs Lomele)/Experiment/pandemic_tgnn/data/Italy/italy_labels.csv'\n",
    "\n",
    "with open(file_path_cases, 'r') as f:\n",
    "    content = f.readlines()\n",
    "\n",
    "if content[0][0:5] != 'index':\n",
    "    content[0] = 'index' + content[0]\n",
    "\n",
    "with open(file_path_cases, 'w') as f:\n",
    "    f.writelines(content)\n",
    "    f.close()"
   ]
  },
  {
   "cell_type": "code",
   "execution_count": 49,
   "metadata": {},
   "outputs": [],
   "source": [
    "#Cleaning columns\n",
    "cases_ita_df = pd.read_csv(file_path_cases)\n",
    "cases_ita_df = cases_ita_df.drop(columns=['index', 'id'])"
   ]
  },
  {
   "cell_type": "code",
   "execution_count": 50,
   "metadata": {},
   "outputs": [],
   "source": [
    "#Fix Bergamo outlier at 2020-05-12 with average of week\n",
    "cases_ita_df.at[12, '2020-05-12'] = int(cases_ita_df.iloc[12, 72:79].mean())"
   ]
  },
  {
   "cell_type": "code",
   "execution_count": 51,
   "metadata": {},
   "outputs": [],
   "source": [
    "#Selecting subset of cities by percentile.\n",
    "#upper_quant_ita = cases_ita_df.iloc[:, 1:].max(axis=1).quantile(0.75)\n",
    "#cases_ita_df = cases_ita_df[cases_ita_df.iloc[:, 1:].ge(upper_quant_ita).any(axis=1)]\n",
    "\n",
    "#Selecting subset of cities by number of absoluet cases.\n",
    "top_30_ita = cases_ita_df.iloc[:, 1:].sum(axis=1).sort_values(ascending=False).head(30).index\n",
    "cases_ita_df = cases_ita_df.loc[top_30_ita]\n",
    "selected_cities_ita = cases_ita_df['name'].to_numpy(dtype='str')"
   ]
  },
  {
   "cell_type": "markdown",
   "metadata": {},
   "source": [
    "## Spain"
   ]
  },
  {
   "cell_type": "code",
   "execution_count": 52,
   "metadata": {},
   "outputs": [],
   "source": [
    "#Importing CSV\n",
    "cases_spa_df = pd.read_csv('/Users/marco/Library/CloudStorage/Dropbox/University/Bachelor/Year 3/Bocconi (2)/Thesis (GNNs Lomele)/Experiment/pandemic_tgnn/data/Spain/spain_labels.csv')\n",
    "cases_spa_df[cases_spa_df.columns[1:]] = cases_spa_df.iloc[:, 1:].astype('int64')\n",
    "\n",
    "#Outlier due to mis-reporting\n",
    "cases_spa_df = cases_spa_df.drop(index = 51)"
   ]
  },
  {
   "cell_type": "code",
   "execution_count": 53,
   "metadata": {},
   "outputs": [],
   "source": [
    "#Selecting subset of cities by quantile\n",
    "#upper_quant_spa = cases_spa_df.iloc[:, 1:].mean(axis=1).quantile(0.80)\n",
    "#cases_spa_df = cases_spa_df[cases_spa_df.iloc[:, 1:].ge(upper_quant_spa).any(axis=1)]\n",
    "\n",
    "#Selecting subset by absolute number of cases.\n",
    "top_30_spa = cases_spa_df.iloc[:, 1:].sum(axis=1).sort_values(ascending=False).head(30).index\n",
    "cases_spa_df = cases_spa_df.loc[top_30_spa]\n",
    "selected_cities_spa = cases_spa_df['name'].to_numpy(dtype='str')"
   ]
  },
  {
   "cell_type": "markdown",
   "metadata": {},
   "source": [
    "## France"
   ]
  },
  {
   "cell_type": "code",
   "execution_count": 54,
   "metadata": {},
   "outputs": [],
   "source": [
    "#Importing CSV\n",
    "cases_fra_df = pd.read_csv('/Users/marco/Library/CloudStorage/Dropbox/University/Bachelor/Year 3/Bocconi (2)/Thesis (GNNs Lomele)/Experiment/pandemic_tgnn/data/France/france_labels.csv')"
   ]
  },
  {
   "cell_type": "code",
   "execution_count": 55,
   "metadata": {},
   "outputs": [],
   "source": [
    "#Selecting subset of cities by quantiles\n",
    "#upper_quant_fra = cases_fra_df.iloc[:, 1:].mean(axis=1).quantile(0.8)\n",
    "#cases_fra_df = cases_fra_df[cases_fra_df.iloc[:, 1:].ge(upper_quant_fra).any(axis=1)]\n",
    "\n",
    "#Selecting cities by absolute number of cases\n",
    "top_30_fra = cases_fra_df.iloc[:, 1:].sum(axis=1).sort_values(ascending=False).head(30).index\n",
    "cases_fra_df = cases_fra_df.loc[top_30_fra]\n",
    "selected_cities_fra = cases_fra_df['name'].to_numpy(dtype='str')"
   ]
  },
  {
   "cell_type": "markdown",
   "metadata": {},
   "source": [
    "## England"
   ]
  },
  {
   "cell_type": "code",
   "execution_count": 56,
   "metadata": {},
   "outputs": [],
   "source": [
    "cases_eng_df = pd.read_csv('/Users/marco/Library/CloudStorage/Dropbox/University/Bachelor/Year 3/Bocconi (2)/Thesis (GNNs Lomele)/Experiment/pandemic_tgnn/data/England/england_labels.csv')"
   ]
  },
  {
   "cell_type": "code",
   "execution_count": 57,
   "metadata": {},
   "outputs": [],
   "source": [
    "#Selecting cities by quantiles\n",
    "#upper_quant_eng = cases_eng_df.iloc[:, 1:].mean(axis=1).quantile(0.75)\n",
    "#cases_eng_df = cases_eng_df[cases_eng_df.iloc[:, 1:].ge(upper_quant_eng).any(axis=1)]\n",
    "\n",
    "#Selecting subset of cities by absolute value\n",
    "top_30_eng = cases_eng_df.iloc[:, 1:].sum(axis=1).sort_values(ascending=True).head(30).index\n",
    "cases_eng_df = cases_eng_df.loc[top_30_eng]\n",
    "selected_cities_eng = cases_eng_df['name'].to_numpy(dtype='str')"
   ]
  },
  {
   "cell_type": "markdown",
   "metadata": {},
   "source": [
    "# Aggregating"
   ]
  },
  {
   "cell_type": "code",
   "execution_count": 58,
   "metadata": {},
   "outputs": [],
   "source": [
    "selected_cities_list = [selected_cities_ita, selected_cities_spa, selected_cities_fra, selected_cities_eng]\n",
    "cases_dfs_list = [cases_ita_df, cases_spa_df, cases_fra_df, cases_eng_df]\n",
    "countries = ['ita', 'spa', 'fra', 'eng']\n",
    "folder_path_dict = {\n",
    "    'ita' : '/Users/marco/Library/CloudStorage/Dropbox/University/Bachelor/Year 3/Bocconi (2)/Thesis (GNNs Lomele)/Experiment/pandemic_tgnn/data/Italy/graphs',\n",
    "    'spa' : '/Users/marco/Library/CloudStorage/Dropbox/University/Bachelor/Year 3/Bocconi (2)/Thesis (GNNs Lomele)/Experiment/pandemic_tgnn/data/Spain/graphs',\n",
    "    'fra' : '/Users/marco/Library/CloudStorage/Dropbox/University/Bachelor/Year 3/Bocconi (2)/Thesis (GNNs Lomele)/Experiment/pandemic_tgnn/data/France/graphs',\n",
    "    'eng' : '/Users/marco/Library/CloudStorage/Dropbox/University/Bachelor/Year 3/Bocconi (2)/Thesis (GNNs Lomele)/Experiment/pandemic_tgnn/data/England/graphs',\n",
    "}\n",
    "movement_dfs_list = []"
   ]
  },
  {
   "cell_type": "code",
   "execution_count": 59,
   "metadata": {},
   "outputs": [],
   "source": [
    "for i in range(len(countries)):\n",
    "    movement_df = pd.DataFrame(columns=['src', 'trg', 'movement', 'date'])\n",
    "    movement_df = movement_df.astype({'src':'str', 'trg':'str', 'movement':'int64'})\n",
    "    movement_df['date'] = pd.to_datetime(movement_df['date'])\n",
    "\n",
    "    folder_path = folder_path_dict[countries[i]]\n",
    "\n",
    "    for filename in sorted(os.listdir(folder_path)):\n",
    "        file_path = os.path.join(folder_path, filename)\n",
    "        with open(file_path, 'r') as f:\n",
    "            content = f.readlines()\n",
    "\n",
    "        if content[0].strip() != ','.join(['src', 'trg', 'movement']):\n",
    "            content.insert(0, ','.join(['src', 'trg', 'movement']) + '\\n')\n",
    "        \n",
    "        with open(file_path, 'w') as f:\n",
    "            f.writelines(content)\n",
    "            f.close()\n",
    "\n",
    "        df = pd.read_csv(file_path)\n",
    "        df = df.astype({'src':'str', 'trg':'str', 'movement':'int64'})\n",
    "        df = df[(df['src'].isin(selected_cities_list[i])) & (df['trg'].isin(selected_cities_list[i]))]\n",
    "\n",
    "        year, month, day = int(filename[3:-10]), int(filename[8:-7]), int(filename[11:-4])\n",
    "        date = datetime(year, month, day)\n",
    "        df['date'] = date   \n",
    "        df['date'] = pd.to_datetime(df['date'])\n",
    "\n",
    "        df = df.sort_values(by=['src', 'trg'])\n",
    "\n",
    "        movement_df = pd.concat([movement_df, df], axis = 0)\n",
    "\n",
    "    movement_df = movement_df.reset_index(drop=True)\n",
    "    movement_dfs_list.append(movement_df)"
   ]
  },
  {
   "cell_type": "code",
   "execution_count": 60,
   "metadata": {},
   "outputs": [],
   "source": [
    "movement_ita_df = movement_dfs_list[0]\n",
    "movement_spa_df = movement_dfs_list[1]\n",
    "movement_fra_df = movement_dfs_list[2]\n",
    "movement_eng_df = movement_dfs_list[3]"
   ]
  },
  {
   "cell_type": "markdown",
   "metadata": {},
   "source": [
    "# Indexing"
   ]
  },
  {
   "cell_type": "code",
   "execution_count": 61,
   "metadata": {},
   "outputs": [],
   "source": [
    "selected_cities_ita = np.sort(selected_cities_ita)\n",
    "selected_cities_spa = np.sort(selected_cities_spa)\n",
    "selected_cities_fra = np.sort(selected_cities_fra)\n",
    "selected_cities_eng = np.sort(selected_cities_eng)\n",
    "\n",
    "mapping_ita = {city: i for i, city in enumerate(selected_cities_ita, start=1)}\n",
    "mapping_spa = {city: i for i, city in enumerate(selected_cities_spa, start=1)}\n",
    "mapping_fra = {city: i for i, city in enumerate(selected_cities_fra, start=1)}\n",
    "mapping_eng = {city: i for i, city in enumerate(selected_cities_eng, start=1)}"
   ]
  },
  {
   "cell_type": "code",
   "execution_count": 62,
   "metadata": {},
   "outputs": [],
   "source": [
    "movement_ita_df['src'] = movement_ita_df['src'].map(mapping_ita)\n",
    "movement_ita_df['trg'] = movement_ita_df['trg'].map(mapping_ita)\n",
    "\n",
    "movement_spa_df['src'] = movement_spa_df['src'].map(mapping_spa)\n",
    "movement_spa_df['trg'] = movement_spa_df['trg'].map(mapping_spa)\n",
    "\n",
    "movement_fra_df['src'] = movement_fra_df['src'].map(mapping_fra)\n",
    "movement_fra_df['trg'] = movement_fra_df['trg'].map(mapping_fra)\n",
    "\n",
    "movement_eng_df['src'] = movement_eng_df['src'].map(mapping_eng)\n",
    "movement_eng_df['trg'] = movement_eng_df['trg'].map(mapping_eng)"
   ]
  },
  {
   "cell_type": "markdown",
   "metadata": {},
   "source": [
    "# Tests"
   ]
  },
  {
   "cell_type": "markdown",
   "metadata": {},
   "source": [
    "Next up:\n",
    "\n",
    "1. Find optimal lag of movement data. Comapare correlation between number of covid cases today and movemement data lagged by 1 to 14 days. \n",
    "2. Implications of using directed vs undirected edges. \n",
    "3. Exploration of using features on the node that provide more information about COVID transmission: density of population, number of cities/towns."
   ]
  }
 ],
 "metadata": {
  "kernelspec": {
   "display_name": ".venv",
   "language": "python",
   "name": "python3"
  },
  "language_info": {
   "codemirror_mode": {
    "name": "ipython",
    "version": 3
   },
   "file_extension": ".py",
   "mimetype": "text/x-python",
   "name": "python",
   "nbconvert_exporter": "python",
   "pygments_lexer": "ipython3",
   "version": "3.11.7"
  }
 },
 "nbformat": 4,
 "nbformat_minor": 2
}
