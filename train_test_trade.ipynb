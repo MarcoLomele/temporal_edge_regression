{
 "cells": [
  {
   "cell_type": "code",
   "execution_count": 1,
   "metadata": {},
   "outputs": [],
   "source": [
    "import torch\n",
    "import matplotlib.pyplot as plt\n",
    "from statistics import mean\n",
    "from tqdm import tqdm\n",
    "import pandas as pd\n",
    "%matplotlib inline"
   ]
  },
  {
   "cell_type": "code",
   "execution_count": 2,
   "metadata": {},
   "outputs": [],
   "source": [
    "from graph_generation_trade import dict_snapshots_trade, temporal_data_trade\n",
    "\n",
    "snapshots_trade = list(dict_snapshots_trade.values())\n",
    "\n",
    "from models_and_utils import (\n",
    "    data_split, train_snapshots, test_snapshots, apply_negative_sampling\n",
    ")"
   ]
  },
  {
   "cell_type": "code",
   "execution_count": 3,
   "metadata": {},
   "outputs": [],
   "source": [
    "def train_snapshots(model, graph_snapshots_train, optimiser, epochs):\n",
    "\n",
    "    model.train(True)\n",
    "    loss_epochs_dict = {}\n",
    "\n",
    "    for epoch in tqdm(range(epochs)):\n",
    "        \n",
    "        losses_list = []\n",
    "        non_zero_gradients = 0\n",
    "\n",
    "        for snapshot in graph_snapshots_train:\n",
    "            optimiser.zero_grad()\n",
    "\n",
    "            edge_weights_pred = model(snapshot)\n",
    "\n",
    "            loss = torch.mean((edge_weights_pred - snapshot.edge_weights)**2)\n",
    "            loss.backward()\n",
    "            \n",
    "            for param in model.parameters():\n",
    "                if param.grad is not None:\n",
    "                    if torch.sum(param.grad) != 0:\n",
    "                        non_zero_gradients += 1\n",
    "            \n",
    "            optimiser.step()\n",
    "            losses_list.append(loss.item())\n",
    "\n",
    "        if non_zero_gradients == 0:\n",
    "            print(\"Warning: No non-zero gradients found in epoch {}\".format(epoch))\n",
    "\n",
    "        if epoch % 10 == 0:\n",
    "            plt.scatter(edge_weights_pred.detach().numpy(), snapshot.edge_weights.detach().numpy())\n",
    "            plt.xlabel('pred')\n",
    "            plt.ylabel('true')\n",
    "            plt.xlim(left=0)\n",
    "            plt.show()\n",
    "\n",
    "        avg_epoch_loss = mean(losses_list)\n",
    "        loss_epochs_dict[epoch+1] = avg_epoch_loss \n",
    "\n",
    "    loss_epochs_df = pd.DataFrame(loss_epochs_dict.items(), columns=['epoch', 'loss'])\n",
    "    return loss_epochs_df\n",
    "\n",
    "def test_snapshots(model, graph_snapshots_test):\n",
    "    with torch.no_grad():\n",
    "        model.eval()\n",
    "        loss = 0\n",
    "        for snapshot in graph_snapshots_test:\n",
    "            edge_weights_pred = model(snapshot)\n",
    "            mse = torch.mean((edge_weights_pred - snapshot.edge_weights)**2)\n",
    "            loss += mse\n",
    "        loss = loss / (len(graph_snapshots_test))\n",
    "        print(f'MSE = {loss.item():.4f}')"
   ]
  },
  {
   "cell_type": "code",
   "execution_count": 4,
   "metadata": {},
   "outputs": [],
   "source": [
    "data = snapshots_trade\n",
    "data_train, data_test = data_split(graph_snapshots=data, split_ratio=0.9)"
   ]
  },
  {
   "cell_type": "code",
   "execution_count": 5,
   "metadata": {},
   "outputs": [],
   "source": [
    "# from models_and_utils import ModelMPNN\n",
    "\n",
    "# in_channels = data[0].x.shape[1]\n",
    "# hidden_size = 4\n",
    "# num_nodes = data[0].x.shape[0]\n",
    "# window = 1\n",
    "# dropout_p = 0.0\n",
    "# model1 = ModelMPNN(in_channels, hidden_size, num_nodes, window, dropout_p)\n",
    "# model1.to(device)\n",
    "\n",
    "# lr = 0.005\n",
    "# optimiser = torch.optim.Adam(model1.parameters(), lr=lr)\n",
    "# epochs = 50\n",
    "\n",
    "# results = train_snapshots(model1, data_train, optimiser, epochs)\n",
    "# results['loss'].plot()\n",
    "# plt.show()\n",
    "\n",
    "# results = test_snapshots(model1, data_test)"
   ]
  },
  {
   "cell_type": "code",
   "execution_count": null,
   "metadata": {},
   "outputs": [],
   "source": [
    "# from models_and_utils import ModelEVOLVE\n",
    "\n",
    "# in_channels = hidden_size = data[0].x.shape[1]\n",
    "# num_nodes = data[0].x.shape[0]\n",
    "# window = 1\n",
    "# dropout_p = 0.0\n",
    "\n",
    "# model2 = ModelEVOLVE(num_nodes, hidden_size, in_channels, dropout_p)\n",
    "\n",
    "# lr = 0.0005\n",
    "# epochs = 10\n",
    "# optimiser = torch.optim.Adam(model2.parameters(), lr=lr)\n",
    "\n",
    "# results = train_snapshots(model2, data_train, optimiser, epochs)\n",
    "# results['loss'].plot()\n",
    "# plt.show()\n",
    "\n",
    "# # results = test_snapshots(model2, data_test)"
   ]
  },
  {
   "cell_type": "code",
   "execution_count": 12,
   "metadata": {},
   "outputs": [
    {
     "name": "stderr",
     "output_type": "stream",
     "text": [
      "  0%|          | 0/5 [00:00<?, ?it/s]"
     ]
    },
    {
     "data": {
      "image/png": "[encoded data removed]",
      "text/plain": [
       "<Figure size 640x480 with 1 Axes>"
      ]
     },
     "metadata": {},
     "output_type": "display_data"
    },
    {
     "name": "stderr",
     "output_type": "stream",
     "text": [
      "100%|██████████| 5/5 [00:04<00:00,  1.01it/s]\n"
     ]
    },
    {
     "data": {
      "image/png": "[encoded data removed]",
      "text/plain": [
       "<Figure size 640x480 with 1 Axes>"
      ]
     },
     "metadata": {},
     "output_type": "display_data"
    },
    {
     "name": "stdout",
     "output_type": "stream",
     "text": [
      "MSE = 71.8461\n"
     ]
    }
   ],
   "source": [
    "from models_and_utils import ModelA3TGCN\n",
    "\n",
    "in_channels = snapshots_trade[0].x.shape[1]\n",
    "hidden_size = 4\n",
    "dropout_p = 0.2\n",
    "periods = 1\n",
    "\n",
    "model3 = ModelA3TGCN(in_channels, hidden_size, dropout_p, periods)\n",
    "\n",
    "lr = 0\n",
    "epochs = 5\n",
    "optimiser = torch.optim.Adam(model3.parameters(), lr=lr)\n",
    "\n",
    "train_snapshots(model3, data_train, optimiser, epochs)['loss'].plot()\n",
    "plt.show()\n",
    "\n",
    "test_snapshots(model3, data_test)"
   ]
  },
  {
   "cell_type": "code",
   "execution_count": 11,
   "metadata": {},
   "outputs": [
    {
     "data": {
      "text/plain": [
       "ModelA3TGCN(\n",
       "  (encoder): EncoderA3TGCN(\n",
       "    (A3TGCN): A3TGCN(\n",
       "      (_base_tgcn): TGCN(\n",
       "        (conv_z): GCNConv(1, 4)\n",
       "        (linear_z): Linear(in_features=8, out_features=4, bias=True)\n",
       "        (conv_r): GCNConv(1, 4)\n",
       "        (linear_r): Linear(in_features=8, out_features=4, bias=True)\n",
       "        (conv_h): GCNConv(1, 4)\n",
       "        (linear_h): Linear(in_features=8, out_features=4, bias=True)\n",
       "      )\n",
       "    )\n",
       "    (dropout): Dropout(p=0.2, inplace=False)\n",
       "  )\n",
       "  (decoder): EdgeDecoder(\n",
       "    (lin1): Linear(in_features=8, out_features=4, bias=True)\n",
       "    (lin2): Linear(in_features=4, out_features=1, bias=True)\n",
       "  )\n",
       ")"
      ]
     },
     "execution_count": 11,
     "metadata": {},
     "output_type": "execute_result"
    }
   ],
   "source": [
    "model3"
   ]
  }
 ],
 "metadata": {
  "kernelspec": {
   "display_name": ".venv",
   "language": "python",
   "name": "python3"
  },
  "language_info": {
   "codemirror_mode": {
    "name": "ipython",
    "version": 3
   },
   "file_extension": ".py",
   "mimetype": "text/x-python",
   "name": "python",
   "nbconvert_exporter": "python",
   "pygments_lexer": "ipython3",
   "version": "3.11.7"
  }
 },
 "nbformat": 4,
 "nbformat_minor": 2
}
