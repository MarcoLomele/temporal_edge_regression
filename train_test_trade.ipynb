{
 "cells": [
  {
   "cell_type": "markdown",
   "metadata": {},
   "source": [
    "# Import"
   ]
  },
  {
   "cell_type": "code",
   "execution_count": 73,
   "metadata": {},
   "outputs": [],
   "source": [
    "import torch\n",
    "import matplotlib.pyplot as plt\n",
    "from statistics import mean\n",
    "from tqdm import tqdm\n",
    "import pandas as pd\n",
    "from torch_geometric.data import Data\n",
    "from torch.optim.lr_scheduler import ReduceLROnPlateau\n",
    "import pickle\n",
    "%matplotlib inline"
   ]
  },
  {
   "cell_type": "code",
   "execution_count": 74,
   "metadata": {},
   "outputs": [],
   "source": [
    "from graph_generation_trade import dict_snapshots_trade, temporal_data_trade\n",
    "\n",
    "snapshots_trade = list(dict_snapshots_trade.values())\n",
    "\n",
    "from models_and_utils import (\n",
    "    data_split, train_snapshots, test_snapshots, apply_negative_sampling\n",
    ")"
   ]
  },
  {
   "cell_type": "markdown",
   "metadata": {},
   "source": [
    "# Functions"
   ]
  },
  {
   "cell_type": "code",
   "execution_count": 75,
   "metadata": {},
   "outputs": [],
   "source": [
    "def train_snapshots(model, graph_snapshots_train, optimiser, epochs):\n",
    "\n",
    "    model.train(True)\n",
    "    loss_epochs_dict = {}\n",
    "\n",
    "    for epoch in tqdm(range(epochs)):\n",
    "        \n",
    "        losses_list = []\n",
    "        non_zero_gradients = 0\n",
    "\n",
    "        for snapshot in graph_snapshots_train:\n",
    "            optimiser.zero_grad()\n",
    "\n",
    "            edge_weights_pred = model(snapshot)\n",
    "\n",
    "            loss = torch.mean((edge_weights_pred - snapshot.edge_weights)**2)\n",
    "            loss.backward()\n",
    "            \n",
    "            for param in model.parameters():\n",
    "                if param.grad is not None:\n",
    "                    if torch.sum(param.grad) != 0:\n",
    "                        non_zero_gradients += 1\n",
    "            \n",
    "            optimiser.step()\n",
    "            losses_list.append(loss.item())\n",
    "\n",
    "        if non_zero_gradients == 0:\n",
    "            print(\"Warning: No non-zero gradients found in epoch {}\".format(epoch))\n",
    "\n",
    "        if epoch % 10 == 0:\n",
    "            plt.scatter(edge_weights_pred.detach().numpy(), snapshot.edge_weights.detach().numpy())\n",
    "            plt.xlabel('pred')\n",
    "            plt.ylabel('true')\n",
    "            plt.xlim(left=0)\n",
    "            plt.show()\n",
    "\n",
    "        avg_epoch_loss = mean(losses_list)\n",
    "        loss_epochs_dict[epoch+1] = avg_epoch_loss \n",
    "\n",
    "    loss_epochs_df = pd.DataFrame(loss_epochs_dict.items(), columns=['epoch', 'loss'])\n",
    "    return loss_epochs_df\n",
    "\n",
    "def test_snapshots(model, graph_snapshots_test):\n",
    "    with torch.no_grad():\n",
    "        model.eval()\n",
    "        loss = 0\n",
    "        for snapshot in graph_snapshots_test:\n",
    "            edge_weights_pred = model(snapshot)\n",
    "            mse = torch.mean((edge_weights_pred - snapshot.edge_weights)**2)\n",
    "            loss += mse\n",
    "        loss = loss / (len(graph_snapshots_test))\n",
    "        print(f'MSE = {loss.item():.4f}')"
   ]
  },
  {
   "cell_type": "code",
   "execution_count": 76,
   "metadata": {},
   "outputs": [],
   "source": [
    "def GATR_train(model, graph_snapshots_train, window, optimiser, epochs):\n",
    "    model.train()\n",
    "    loss_epochs_df = pd.DataFrame(columns=['epoch', 'loss'])\n",
    "\n",
    "    for epoch in tqdm(range(epochs)):\n",
    "        \n",
    "        losses_list = []\n",
    "        non_zero_gradients = 0\n",
    "\n",
    "        for i in range(window+1, len(graph_snapshots_train)):\n",
    "            s = graph_snapshots_train[i]\n",
    "            s_lag1 = graph_snapshots_train[i-1]\n",
    "            s_lag2 = graph_snapshots_train[i-2]\n",
    "            s_lag3 = graph_snapshots_train[i-3]\n",
    "            s_lag4 = graph_snapshots_train[i-4]\n",
    "            lagged_snapshots = [s_lag4, s_lag3, s_lag2, s_lag1]\n",
    "            \n",
    "            optimiser.zero_grad()\n",
    "            \n",
    "            edge_weights_pred = model(lagged_snapshots)\n",
    "            loss = torch.mean((edge_weights_pred - s.edge_weights)**2)\n",
    "            loss.backward()\n",
    "\n",
    "            for param in model.parameters():\n",
    "                if param.grad is not None:\n",
    "                    if torch.sum(param.grad) != 0:\n",
    "                        non_zero_gradients += 1\n",
    "        \n",
    "            optimiser.step()\n",
    "            losses_list.append(loss.item())\n",
    "    \n",
    "        if non_zero_gradients == 0:\n",
    "            print(\"Warning: No non-zero gradients found in epoch {}\".format(epoch))\n",
    "\n",
    "        if epoch % 10 == 0:\n",
    "            plt.scatter(edge_weights_pred.detach().numpy(), s.edge_weights.detach().numpy())\n",
    "            plt.xlabel('pred')\n",
    "            plt.ylabel('true')\n",
    "            plt.xlim(left=0)\n",
    "            plt.show()\n",
    "\n",
    "        avg_epoch_loss = mean(losses_list)\n",
    "        loss_epochs_df.loc[len(loss_epochs_df)]={'epoch':epoch+1, 'loss':avg_epoch_loss}\n",
    "\n",
    "    return loss_epochs_df"
   ]
  },
  {
   "cell_type": "markdown",
   "metadata": {},
   "source": [
    "# Data"
   ]
  },
  {
   "cell_type": "code",
   "execution_count": 77,
   "metadata": {},
   "outputs": [],
   "source": [
    "# ## ORIGINAL ###\n",
    "## Snapshots    \n",
    "# data = snapshots_trade\n",
    "# data_train, data_test = data_split(graph_snapshots=data, split_ratio=0.9)\n",
    "\n",
    "## Temporal (for TGN)\n",
    "# tmp_data_trade, node_features, edge_weights = temporal_data_trade "
   ]
  },
  {
   "cell_type": "markdown",
   "metadata": {},
   "source": [
    "## Dummy tests"
   ]
  },
  {
   "cell_type": "markdown",
   "metadata": {},
   "source": [
    "### Level 1"
   ]
  },
  {
   "cell_type": "markdown",
   "metadata": {},
   "source": [
    "Dummy data description: give the same graph with equal node features and equal edge weights set to 10. \n",
    "\n",
    "Result: ModelMPNN: ✅  |   ModelEVOLVE: ✅   |   ModelA3TGCN: ✅   |   ModelGATR: ✅  |  ModelTGN: ❌"
   ]
  },
  {
   "cell_type": "code",
   "execution_count": 78,
   "metadata": {},
   "outputs": [],
   "source": [
    "# x = torch.ones((14,1)) \n",
    "# edge_index = torch.tensor([[ 6,  6,  6,  6,  6,  6,  6,  6,  6,  6,  6,  6,  9,  9,  9,  9,  9,  9, 9,  9,  9,  9,  9,  9],\n",
    "#                            [ 0,  1,  2,  3,  4,  5,  7,  8, 10, 11, 12, 13,  0,  1,  2,  3,  4,  5, 7,  8, 10, 11, 12, 13]])\n",
    "# edge_weights = torch.full((24,1), 10)\n",
    "# edge_weights_index = edge_index.detach().clone()\n",
    "# num_nodes = 14\n",
    "# dummy_data = Data(x=x, edge_index=edge_index, edge_weights=edge_weights, edge_weights_index=edge_weights_index, num_nodes=num_nodes)\n",
    "# data_train = [dummy_data for i in range(10)]"
   ]
  },
  {
   "cell_type": "code",
   "execution_count": 79,
   "metadata": {},
   "outputs": [],
   "source": [
    "# tmp_data_trade, node_features, edge_weights = temporal_data_trade \n",
    "# node_features = {i:torch.zeros(node_features[0].size()) for i in range(max(node_features.keys())+1)}\n",
    "# edge_weights = torch.full_like(edge_weights, 10)"
   ]
  },
  {
   "cell_type": "markdown",
   "metadata": {},
   "source": [
    "### Level 2"
   ]
  },
  {
   "cell_type": "markdown",
   "metadata": {},
   "source": [
    "Level description: give the same graph many times with different node features and equal edge weights set to 10.\n",
    "\n",
    "Result: ModelMPNN: ✅  |   ModelEVOLVE: ✅   |   ModelA3TGCN: ✅   |   ModelGATR: ✅  |  ModelTGN: ❌"
   ]
  },
  {
   "cell_type": "code",
   "execution_count": 82,
   "metadata": {},
   "outputs": [],
   "source": [
    "# x = torch.randint(1,5, (14,1), dtype=torch.float)\n",
    "# edge_index = torch.tensor([[ 6,  6,  6,  6,  6,  6,  6,  6,  6,  6,  6,  6,  9,  9,  9,  9,  9,  9, 9,  9,  9,  9,  9,  9],\n",
    "#                            [ 0,  1,  2,  3,  4,  5,  7,  8, 10, 11, 12, 13,  0,  1,  2,  3,  4,  5, 7,  8, 10, 11, 12, 13]])\n",
    "# edge_weights = torch.full((24,1), 10)\n",
    "# edge_weights_index = edge_index.detach().clone()\n",
    "# num_nodes = 14\n",
    "# dummy_data = Data(x=x, edge_index=edge_index, edge_weights=edge_weights, edge_weights_index=edge_weights_index, num_nodes=num_nodes)\n",
    "# data_train = [dummy_data for i in range(10)]"
   ]
  },
  {
   "cell_type": "markdown",
   "metadata": {},
   "source": [
    "### Level 3"
   ]
  },
  {
   "cell_type": "markdown",
   "metadata": {},
   "source": [
    "Level description: give multiple graphs with same structure but different node features and equal edge weights set to 5.\n",
    "\n",
    "Result: ModelMPNN: ✅  |   ModelEVOLVE: ✅   |   ModelA3TGCN: ✅   |   ModelGATR: ✅  |  ModelTGN: ❌"
   ]
  },
  {
   "cell_type": "code",
   "execution_count": 91,
   "metadata": {},
   "outputs": [],
   "source": [
    "edge_index = torch.tensor([[ 6,  6,  6,  6,  6,  6,  6,  6,  6,  6,  6,  6,  9,  9,  9,  9,  9,  9, 9,  9,  9,  9,  9,  9],\n",
    "                           [ 0,  1,  2,  3,  4,  5,  7,  8, 10, 11, 12, 13,  0,  1,  2,  3,  4,  5, 7,  8, 10, 11, 12, 13]])\n",
    "edge_weights = torch.full((24,1), 5)\n",
    "edge_weights_index = edge_index.detach().clone()\n",
    "num_nodes = 14\n",
    "\n",
    "data_train = []\n",
    "for i in range(100):\n",
    "    x = torch.randint(1,10, (14,1), dtype=torch.float)\n",
    "    dummy_graph_i = Data(x=x, edge_index=edge_index, edge_weights=edge_weights, edge_weights_index=edge_weights_index, num_nodes=num_nodes)\n",
    "    data_train.append(dummy_graph_i)"
   ]
  },
  {
   "cell_type": "markdown",
   "metadata": {},
   "source": [
    "### Level 4"
   ]
  },
  {
   "cell_type": "markdown",
   "metadata": {},
   "source": [
    "Level description: give multiple graphs with same structure with fixed node features and edge features equal to the ID of the source node. "
   ]
  },
  {
   "cell_type": "code",
   "execution_count": null,
   "metadata": {},
   "outputs": [],
   "source": []
  },
  {
   "cell_type": "markdown",
   "metadata": {},
   "source": [
    "### Dummy level 6"
   ]
  },
  {
   "cell_type": "markdown",
   "metadata": {},
   "source": [
    "Dummy experiment description: predict the value of the weights of all edges where the sum of all exports = production.\n",
    "\n",
    "Result: ModelMPNN:   |   ModelEVOLVE:    |   ModelA3TGCN:    |   ModelGATR:   |  ModelTGN: ❌"
   ]
  },
  {
   "cell_type": "code",
   "execution_count": 65,
   "metadata": {},
   "outputs": [],
   "source": [
    "# with open('trade_data_dummy_level2.pkl', 'rb') as f:\n",
    "#     snapshots_trade_dummy2 = pickle.load(f)\n",
    "\n",
    "# snapshots_trade_dummy2 = list(snapshots_trade_dummy2.values())\n",
    "\n",
    "# # Snapshots    \n",
    "# data = snapshots_trade_dummy2\n",
    "# data_train, data_test = data_split(graph_snapshots=data, split_ratio=0.9)"
   ]
  },
  {
   "cell_type": "markdown",
   "metadata": {},
   "source": [
    "# Snapshot-based models"
   ]
  },
  {
   "cell_type": "code",
   "execution_count": null,
   "metadata": {},
   "outputs": [],
   "source": [
    "from models_and_utils import ModelMPNN\n",
    "\n",
    "in_channels = data_train[0].x.shape[1]\n",
    "hidden_size = 16\n",
    "num_nodes = data_train[0].x.shape[0]\n",
    "window = 1\n",
    "dropout_p = 0.1\n",
    "model1 = ModelMPNN(in_channels, hidden_size, num_nodes, window, dropout_p)\n",
    "\n",
    "lr = 0.5\n",
    "optimiser = torch.optim.Adam(model1.parameters(), lr=lr)\n",
    "epochs = 50\n",
    "\n",
    "results = train_snapshots(model1, data_train, optimiser, epochs)\n",
    "results['loss'].plot()\n",
    "plt.show()\n",
    "\n",
    "# results = test_snapshots(model1, data_test)"
   ]
  },
  {
   "cell_type": "code",
   "execution_count": null,
   "metadata": {},
   "outputs": [],
   "source": [
    "from models_and_utils import ModelEVOLVE\n",
    "\n",
    "in_channels = hidden_size = data_train[0].x.shape[1]\n",
    "num_nodes = data_train[0].x.shape[0]\n",
    "window = 1\n",
    "dropout_p = 0.0\n",
    "\n",
    "model2 = ModelEVOLVE(num_nodes, hidden_size, in_channels, dropout_p)\n",
    "\n",
    "lr = 0.5\n",
    "epochs = 50\n",
    "optimiser = torch.optim.Adam(model2.parameters(), lr=lr)\n",
    "\n",
    "results = train_snapshots(model2, data_train, optimiser, epochs)\n",
    "results['loss'].plot()\n",
    "plt.show()\n",
    "\n",
    "# results = test_snapshots(model2, data_test)"
   ]
  },
  {
   "cell_type": "code",
   "execution_count": null,
   "metadata": {},
   "outputs": [],
   "source": [
    "from models_and_utils import ModelA3TGCN\n",
    "\n",
    "in_channels = data_train[0].x.shape[1]\n",
    "hidden_size = 16\n",
    "dropout_p = 0.1\n",
    "periods = 1\n",
    "\n",
    "model3 = ModelA3TGCN(in_channels, hidden_size, dropout_p, periods)\n",
    "\n",
    "lr = 0.5\n",
    "epochs = 50\n",
    "optimiser = torch.optim.Adam(model3.parameters(), lr=lr)\n",
    "\n",
    "train_snapshots(model3, data_train, optimiser, epochs)['loss'].plot()\n",
    "plt.show()\n",
    "\n",
    "#test_snapshots(model3, data_test)"
   ]
  },
  {
   "cell_type": "code",
   "execution_count": 95,
   "metadata": {},
   "outputs": [],
   "source": [
    "from models_and_utils import ModelGATR\n",
    "\n",
    "in_channels = data_train[0].x.shape[1]\n",
    "hidden_size = 16\n",
    "num_heads_GAT = 2\n",
    "dropout_p_GAT = 0.1\n",
    "edge_dim_GAT = 0\n",
    "momentum_GAT = 0.1\n",
    "\n",
    "num_heads_TR = 2\n",
    "num_encoder_layers_TR = 2\n",
    "num_decoder_layers_TR = 2\n",
    "dropout_p_TR = 0.1\n",
    "\n",
    "model4 = ModelGATR(in_channels=in_channels, hidden_size=hidden_size, \n",
    "                   num_heads_GAT=num_heads_GAT, dropout_p_GAT=dropout_p_GAT, \n",
    "                   edge_dim_GAT=edge_dim_GAT, momentum_GAT=momentum_GAT, \n",
    "                   num_heads_TR=num_heads_TR, num_encoder_layers_TR=num_encoder_layers_TR, \n",
    "                   num_decoder_layers_TR=num_decoder_layers_TR, \n",
    "                   dropout_p_TR=dropout_p_TR)"
   ]
  },
  {
   "cell_type": "code",
   "execution_count": null,
   "metadata": {},
   "outputs": [],
   "source": [
    "lr = 0.5\n",
    "epochs = 50\n",
    "optimiser = torch.optim.Adam(model4.parameters(), lr=lr)\n",
    "\n",
    "GATR_train(model=model4, graph_snapshots_train=data_train, window=4, optimiser=optimiser, epochs=epochs)['loss'].plot()"
   ]
  },
  {
   "cell_type": "markdown",
   "metadata": {},
   "source": [
    "# TGN"
   ]
  },
  {
   "cell_type": "code",
   "execution_count": 32,
   "metadata": {},
   "outputs": [],
   "source": [
    "from torch_geometric.loader import TemporalDataLoader\n",
    "from torch_geometric.nn import TGNMemory\n",
    "from torch_geometric.nn.models.tgn import (\n",
    "    IdentityMessage,\n",
    "    LastAggregator,\n",
    "    LastNeighborLoader,\n",
    ")\n",
    "from models_and_utils import TGNEncoder, TGNDecoder, TGN_train\n",
    "\n",
    "device = torch.device('cuda' if torch.cuda.is_available() else 'cpu')\n",
    "\n",
    "tmp_data_trade, node_features, edge_weights = temporal_data_trade \n",
    "data_train, val_data, data_test = tmp_data_trade.train_val_test_split(\n",
    "    val_ratio=0, test_ratio=0.10)\n",
    "\n",
    "train_loader = TemporalDataLoader(\n",
    "    data_train,\n",
    "    batch_size=200,\n",
    "    neg_sampling_ratio=1.0,\n",
    ")\n",
    "\n",
    "test_loader = TemporalDataLoader(\n",
    "    data_test,\n",
    "    batch_size=200,\n",
    "    neg_sampling_ratio=1.0,\n",
    ")\n",
    "\n",
    "msg_size = tmp_data_trade.msg.size(-1)\n",
    "num_nodes = tmp_data_trade.num_nodes\n",
    "\n",
    "in_channels = 16\n",
    "out_channels = 16\n",
    "time_dim = 16\n",
    "node_features_dim = node_features[0].size(-1)\n",
    "\n",
    "identity_message = IdentityMessage(msg_size, in_channels, time_dim)\n",
    "neighbor_loader = LastNeighborLoader(tmp_data_trade.num_nodes, size=50, device=device)\n",
    "memory = TGNMemory(num_nodes, msg_size, in_channels, time_dim, \n",
    "                   message_module=identity_message,\n",
    "                   aggregator_module=LastAggregator())\n",
    "\n",
    "model5_enc = TGNEncoder(in_channels=in_channels, out_channels=out_channels,\n",
    "                        msg_dim=msg_size, time_enc=memory.time_enc, \n",
    "                        node_features_dim=node_features_dim).to(device)\n",
    "\n",
    "model5_dec = TGNDecoder(hidden_size=out_channels)\n",
    "assoc = torch.empty(num_nodes, dtype=torch.long, device=device)"
   ]
  },
  {
   "cell_type": "code",
   "execution_count": 33,
   "metadata": {},
   "outputs": [
    {
     "name": "stderr",
     "output_type": "stream",
     "text": [
      "100%|██████████| 20/20 [00:13<00:00,  1.50it/s]\n"
     ]
    },
    {
     "data": {
      "image/png": "[encoded data removed]",
      "text/plain": [
       "<Figure size 640x480 with 1 Axes>"
      ]
     },
     "metadata": {},
     "output_type": "display_data"
    }
   ],
   "source": [
    "epochs = 20\n",
    "lr = 0.1\n",
    "\n",
    "optimiser = torch.optim.Adam(\n",
    "    set(memory.parameters()) | set(model5_enc.parameters())\n",
    "    | set(model5_dec.parameters()), lr=lr)\n",
    "\n",
    "def run_TGN_train():\n",
    "    loss_epochs_dict = {}\n",
    "\n",
    "    for epoch in tqdm(range(epochs)):\n",
    "        avg_epoch_loss = TGN_train(memory, model5_enc, model5_dec, neighbor_loader, train_loader,\n",
    "                node_features, edge_weights, optimiser, device, assoc, \n",
    "                tmp_data_trade, data_train, epoch)\n",
    "        \n",
    "        loss_epochs_dict[epoch+1] = avg_epoch_loss\n",
    "\n",
    "    loss_epochs_df = pd.DataFrame(loss_epochs_dict.items(), columns=['epoch', 'loss'])\n",
    "    return loss_epochs_df\n",
    "\n",
    "run_TGN_train()['loss'].plot()\n",
    "plt.show()"
   ]
  }
 ],
 "metadata": {
  "kernelspec": {
   "display_name": ".venv",
   "language": "python",
   "name": "python3"
  },
  "language_info": {
   "codemirror_mode": {
    "name": "ipython",
    "version": 3
   },
   "file_extension": ".py",
   "mimetype": "text/x-python",
   "name": "python",
   "nbconvert_exporter": "python",
   "pygments_lexer": "ipython3",
   "version": "3.11.7"
  }
 },
 "nbformat": 4,
 "nbformat_minor": 2
}
