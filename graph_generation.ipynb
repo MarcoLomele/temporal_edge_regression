{
 "cells": [
  {
   "cell_type": "code",
   "execution_count": 20,
   "metadata": {},
   "outputs": [],
   "source": [
    "from data_processing import movement_ita_df, movement_spa_df, movement_fra_df, movement_eng_df\n",
    "import pandas as pd\n",
    "import itertools\n",
    "from datetime import datetime"
   ]
  },
  {
   "cell_type": "code",
   "execution_count": null,
   "metadata": {},
   "outputs": [],
   "source": [
    "#Creating fully databases for fully connected graphs.\n",
    "\n",
    "dates_ita = movement_ita_df['date'].unique()\n",
    "cities = list(range(1, 31))\n",
    "all_combinations_ita = pd.DataFrame(list(itertools.product(dates_ita, cities, cities)), columns=['date', 'src', 'trg'])\n",
    "\n",
    "complete_movement_ita_df = all_combinations_ita.merge(\n",
    "    movement_ita_df,\n",
    "    on=['date', 'src', 'trg'],\n",
    "    how='left'\n",
    ")\n",
    "complete_movement_ita_df['movement'] = complete_movement_ita_df['movement'].fillna(0)\n",
    "complete_movement_ita_df['movement'] = complete_movement_ita_df['movement'].astype(int)"
   ]
  },
  {
   "cell_type": "code",
   "execution_count": 15,
   "metadata": {},
   "outputs": [],
   "source": [
    "dates_spa = movement_spa_df['date'].unique()\n",
    "cities = list(range(1, 31))\n",
    "all_combinations_spa = pd.DataFrame(list(itertools.product(dates_spa, cities, cities)), columns=['date', 'src', 'trg'])\n",
    "\n",
    "complete_movement_spa_df = all_combinations_spa.merge(\n",
    "    movement_spa_df,\n",
    "    on=['date', 'src', 'trg'],\n",
    "    how='left'\n",
    ")\n",
    "complete_movement_spa_df['movement'] = complete_movement_spa_df['movement'].fillna(0)\n",
    "complete_movement_spa_df['movement'] = complete_movement_spa_df['movement'].astype(int)"
   ]
  },
  {
   "cell_type": "code",
   "execution_count": 17,
   "metadata": {},
   "outputs": [],
   "source": [
    "dates_fra = movement_fra_df['date'].unique()\n",
    "cities = list(range(1, 31))\n",
    "all_combinations_fra = pd.DataFrame(list(itertools.product(dates_spa, cities, cities)), columns=['date', 'src', 'trg'])\n",
    "\n",
    "complete_movement_fra_df = all_combinations_fra.merge(\n",
    "    movement_fra_df,\n",
    "    on=['date', 'src', 'trg'],\n",
    "    how='left'\n",
    ")\n",
    "complete_movement_fra_df['movement'] = complete_movement_fra_df['movement'].fillna(0)\n",
    "complete_movement_fra_df['movement'] = complete_movement_fra_df['movement'].astype(int)"
   ]
  },
  {
   "cell_type": "code",
   "execution_count": 18,
   "metadata": {},
   "outputs": [],
   "source": [
    "dates_eng = movement_eng_df['date'].unique()\n",
    "cities = list(range(1, 31))\n",
    "all_combinations_eng = pd.DataFrame(list(itertools.product(dates_eng, cities, cities)), columns=['date', 'src', 'trg'])\n",
    "\n",
    "complete_movement_eng_df = all_combinations_eng.merge(\n",
    "    movement_eng_df,\n",
    "    on=['date', 'src', 'trg'],\n",
    "    how='left'\n",
    ")\n",
    "complete_movement_eng_df['movement'] = complete_movement_eng_df['movement'].fillna(0)\n",
    "complete_movement_eng_df['movement'] = complete_movement_eng_df['movement'].astype(int)"
   ]
  },
  {
   "cell_type": "code",
   "execution_count": 19,
   "metadata": {},
   "outputs": [],
   "source": [
    "def generate_monthly_snapshots(movement_df):\n",
    "    monthly_snapshots_dict = {date : df for date, df in movement_df.groupby('date')}\n",
    "    return monthly_snapshots_dict"
   ]
  },
  {
   "cell_type": "code",
   "execution_count": 23,
   "metadata": {},
   "outputs": [],
   "source": [
    "# dictionary with monthly movement data. \n",
    "monthly_snapshots_ita = generate_monthly_snapshots(complete_movement_ita_df)\n",
    "monthly_snapshots_spa = generate_monthly_snapshots(complete_movement_spa_df)\n",
    "monthly_snapshots_fra = generate_monthly_snapshots(complete_movement_fra_df)\n",
    "monthly_snapshots_eng = generate_monthly_snapshots(complete_movement_eng_df)"
   ]
  }
 ],
 "metadata": {
  "kernelspec": {
   "display_name": ".venv",
   "language": "python",
   "name": "python3"
  },
  "language_info": {
   "codemirror_mode": {
    "name": "ipython",
    "version": 3
   },
   "file_extension": ".py",
   "mimetype": "text/x-python",
   "name": "python",
   "nbconvert_exporter": "python",
   "pygments_lexer": "ipython3",
   "version": "3.11.7"
  }
 },
 "nbformat": 4,
 "nbformat_minor": 2
}
