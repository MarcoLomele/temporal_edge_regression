{
 "cells": [
  {
   "cell_type": "code",
   "execution_count": 1,
   "metadata": {},
   "outputs": [],
   "source": [
    "from data_processing import movement_ita_df, movement_spa_df, movement_fra_df, movement_eng_df\n",
    "from data_processing import cases_ita_df, cases_spa_df, cases_fra_df, cases_eng_df\n",
    "import pandas as pd\n",
    "import itertools\n",
    "from datetime import datetime\n",
    "from torch_geometric.data import Data\n",
    "import torch\n",
    "import numpy as np"
   ]
  },
  {
   "cell_type": "code",
   "execution_count": 2,
   "metadata": {},
   "outputs": [],
   "source": [
    "def generate_complete_movement_df(movement_df):\n",
    "    dates = movement_df['date'].unique()\n",
    "    cities = list(range(1, 31))\n",
    "    all_combinations = pd.DataFrame(list(itertools.product(dates, cities, cities)), columns=['date', 'src', 'trg'])\n",
    "    complete_movement_df = all_combinations.merge(\n",
    "        movement_df, on=['date', 'src', 'trg'], how='left'\n",
    "    )\n",
    "    complete_movement_df['movement'] = complete_movement_df['movement'].fillna(0)\n",
    "    complete_movement_df['movement'] = complete_movement_df['movement'].astype(int)\n",
    "    return complete_movement_df"
   ]
  },
  {
   "cell_type": "code",
   "execution_count": 37,
   "metadata": {},
   "outputs": [],
   "source": [
    "def generate_snapshots_dfs_dict(movement_df, cases_df):\n",
    "    dates = movement_df['date'].unique()\n",
    "    snapshots_dict = {}\n",
    "\n",
    "    for i in range(len(dates)):\n",
    "        date = dates[i]\n",
    "        df = movement_df[movement_df['date']==date]\n",
    "\n",
    "        edge_index_arr = np.vstack((df['src'].values, df['trg'].values))\n",
    "        edge_index = torch.tensor(edge_index_arr, dtype=torch.long)\n",
    "        edge_attr = torch.tensor(df['movement'].values[:, None], dtype=torch.float)\n",
    "        num_nodes = df['src'].max()\n",
    "        node_features = torch.tensor(cases_df[str(date)[:10]].values, dtype=torch.float)\n",
    "        \n",
    "        graph = Data(x=node_features, edge_index=edge_index, edge_attr=edge_attr, num_nodes=num_nodes)\n",
    "\n",
    "        snapshots_dict[date] = graph\n",
    "        \n",
    "    return snapshots_dict"
   ]
  },
  {
   "cell_type": "code",
   "execution_count": 41,
   "metadata": {},
   "outputs": [],
   "source": [
    "#Creating fully connecyed data frames for fully connected graphs.\n",
    "complete_movement_ita_df = generate_complete_movement_df(movement_ita_df)\n",
    "complete_movement_spa_df = generate_complete_movement_df(movement_spa_df)\n",
    "complete_movement_fra_df = generate_complete_movement_df(movement_fra_df)\n",
    "complete_movement_eng_df = generate_complete_movement_df(movement_eng_df)\n",
    "\n",
    "#Dictionaries with daily graphs for each country.\n",
    "daily_graphs_ita_dict = generate_snapshots_dfs_dict(complete_movement_ita_df, cases_ita_df)\n",
    "daily_graphs_spa_dict = generate_snapshots_dfs_dict(complete_movement_spa_df, cases_spa_df)\n",
    "daily_graphs_fra_dict = generate_snapshots_dfs_dict(complete_movement_fra_df, cases_fra_df)\n",
    "daily_graphs_eng_dict = generate_snapshots_dfs_dict(complete_movement_eng_df, cases_eng_df)"
   ]
  }
 ],
 "metadata": {
  "kernelspec": {
   "display_name": ".venv",
   "language": "python",
   "name": "python3"
  },
  "language_info": {
   "codemirror_mode": {
    "name": "ipython",
    "version": 3
   },
   "file_extension": ".py",
   "mimetype": "text/x-python",
   "name": "python",
   "nbconvert_exporter": "python",
   "pygments_lexer": "ipython3",
   "version": "3.11.7"
  }
 },
 "nbformat": 4,
 "nbformat_minor": 2
}
